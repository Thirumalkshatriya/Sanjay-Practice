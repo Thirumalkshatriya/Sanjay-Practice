{
  "cells": [
    {
      "cell_type": "markdown",
      "metadata": {
        "id": "view-in-github",
        "colab_type": "text"
      },
      "source": [
        "<a href=\"https://colab.research.google.com/github/Thirumalkshatriya/Sanjay-Practice/blob/master/Python_classes.ipynb\" target=\"_parent\"><img src=\"https://colab.research.google.com/assets/colab-badge.svg\" alt=\"Open In Colab\"/></a>"
      ]
    },
    {
      "cell_type": "code",
      "execution_count": null,
      "metadata": {
        "colab": {
          "base_uri": "https://localhost:8080/"
        },
        "id": "c0SEOBi-G38S",
        "outputId": "be06453f-eb7a-41e6-82cd-eae02b0a8fa6"
      },
      "outputs": [
        {
          "name": "stdout",
          "output_type": "stream",
          "text": [
            "name:Python,snake_length:12m,colour:Green,teeth:True,poisonus:True\n",
            "Python jumping from the tree\n",
            "name:Cobra,snake_length:20m,colour:Blue,teeth:True,poisonus:False\n",
            "Cobra is flying in the sky\n",
            "Cobra jumping from the tree\n",
            "name:Anakonda,snake_length:25m,colour:Green,teeth:False,poisonus:True\n",
            "Anakonda bites the player\n",
            "Python\n",
            "Green\n",
            "12m\n",
            "True\n",
            "True\n"
          ]
        }
      ],
      "source": [
        "class Snake:\n",
        "    name = \" \"\n",
        "    snake_length = \"\"\t#snake attributes\n",
        "    colour = \"\"\n",
        "    teeth = False\t\t#boolean is true/false\n",
        "    poisonus = False\n",
        "\n",
        "    def __init__(self,name,snake_length,colour,teeth,poisonus):           # Init means class constructor\n",
        "        self.name = name\n",
        "        self.snake_length = snake_length\n",
        "        self.colour = colour\n",
        "        self.teeth = teeth\n",
        "        self.poisonus = poisonus\n",
        "\n",
        "    def __str__(self) -> str:\n",
        "       return f\"name:{self.name},snake_length:{self.snake_length},colour:{self.colour},teeth:{self.teeth},poisonus:{self.poisonus}\"\n",
        "\n",
        "    def set_name(self, new_name): # note that the first argument is self    \t#definition/methods\n",
        "        self.name = new_name # access the class attribute with the self keyword\n",
        "\n",
        "    def get_name(self):\n",
        "        return self.name\n",
        "\n",
        "\n",
        "    def set_poisonus(self,new_poisonus):    # Setter defination\n",
        "        self.poisonus = new_poisonus\n",
        "\n",
        "    def get_poisonus(self):\n",
        "        return self.poisonus\n",
        "\n",
        "    def set_colour(self,new_colour):\n",
        "        self.colour = new_colour\n",
        "\n",
        "    def get_colour(self):\n",
        "        return self.colour\n",
        "\n",
        "    def set_teeth(self,new_teeth):\n",
        "        self.teeth = new_teeth\n",
        "\n",
        "    def get_teeth(self):\n",
        "        return self.teeth\n",
        "\n",
        "    def set_length(self,new_length):\n",
        "        self.snake_length = new_length\n",
        "\n",
        "    def get_length(self):\n",
        "        return self.snake_length\n",
        "\n",
        "    def snake_bite(self):\n",
        "        print(self.name + \" bites the player\")\n",
        "\n",
        "    def snake_eat(self):\n",
        "        print(self.name + \" eats the player\")\n",
        "\n",
        "    def snake_sleep(self):\n",
        "        print(self.name + \" sleeps the player\")\n",
        "\n",
        "    def snake_move(self):\n",
        "        print(self.name + \" moves the player\")\n",
        "\n",
        "    def snake_run(self):\n",
        "        print(self.name + \" is running away\")\n",
        "\n",
        "    def snake_swim(self):\n",
        "        print(self.name + \" swimming in the river\")\n",
        "\n",
        "    def snake_fly(self):\n",
        "        print(self.name + \" is flying in the sky\")\n",
        "\n",
        "    def snake_crawl(self):\n",
        "        print(self.name + \" crawlling in the sand\")\n",
        "\n",
        "    def snake_climb(self):\n",
        "        print(self.name + \" climbing the big tree\")\n",
        "\n",
        "    def snake_jump(self):\n",
        "        print(self.name + \" jumping from the tree\")\n",
        "\n",
        "\n",
        "\n",
        "\n",
        "s1 = Snake(\"Python\",\"12m\",\"Green\",True,True)\n",
        "print(s1.__str__())\n",
        "s1.snake_jump()\n",
        "\n",
        "s2 = Snake(\"Cobra\",\"20m\",\"Blue\",True,False)\n",
        "print(s2.__str__())\n",
        "s2.snake_fly()\n",
        "s2.snake_jump()\n",
        "\n",
        "s3 = Snake(\"Anakonda\",\"25m\",\"Green\",False,True)\n",
        "print(s3.__str__())\n",
        "s3.snake_bite()\n",
        "\n",
        "'''\n",
        "s1.set_name(\"Cobra\")\n",
        "print(s1.__str__())\n",
        "\n",
        "s2.set_name(\"Anakonda\")\n",
        "print(s2.__str__())\n",
        "\n",
        "if s1.teeth == True:     # Comarision orrerator\n",
        "    print(\"This snake has teeth\")\n",
        "else:\n",
        "    print(\"This Snake has no teeth\")\n",
        "\n",
        "\n",
        "if s2.teeth == False:\n",
        "    print(\"This snake has teeth\")\n",
        "else:\n",
        "    print(\"This Snake has no teeth\")\n",
        "\n",
        "\n",
        "s1.set_poisonus(True)\n",
        "print(s1.__str__())\n",
        "\n",
        "\n",
        "\n",
        "\n",
        "s1.set_colour(\"green\")\n",
        "print(s1.__str__())\n",
        "\n",
        "s1.set_teeth(True)\n",
        "print(s1.__str__())\n",
        "\n",
        "\n",
        "s1.set_length(\"20m\")\n",
        "print(s1.__str__())\n",
        "'''\n",
        "print(s1.get_name())\n",
        "print(s1.get_colour())\n",
        "print(s1.get_length())\n",
        "print(s1.get_teeth())\n",
        "print(s1.get_poisonus())\n",
        "\n",
        "\n",
        "\n",
        "\n",
        "\n"
      ]
    },
    {
      "cell_type": "code",
      "execution_count": null,
      "metadata": {
        "colab": {
          "base_uri": "https://localhost:8080/",
          "height": 316
        },
        "id": "kQw-MB2vG9_t",
        "outputId": "b9080be5-a308-42b0-b46e-b676d16af3fa"
      },
      "outputs": [
        {
          "name": "stdout",
          "output_type": "stream",
          "text": [
            "name:Sujay,model_name:Innova,model_number:2023,colour:Meroon,fuel_type:Petrol,tyres:Normal,sunroof:True,speed:150km/hr,gear_type:False,led_display:False,engine_type:Two stroke Engine\n",
            "Sujay is driving the car to sanjay home\n",
            "Sujay is stopping the car infront of the Shopping mall\n",
            "name:Rony,model_name:Eratiga,model_number:2022,colour:Black,fuel_type:Desiel,tyres:Magwheel,sunroof:False,speed:170km/hr,gear_type:True,led_display:False,engine_type:Four stroke Engine\n",
            "Rony is accelerating the car to reach office early \n",
            "Rony is changing the gear\n",
            "name:Abay,model_name:Q7,model_number:2024,colour:White,fuel_type:Electric,tyres:Magwheel,sunroof:True,speed:250km/hr,gear_type:True,led_display:True,engine_type:six stroke Engine\n",
            "Abay is breaking the car because of \n",
            "Abay is  changing the tyres\n",
            "name:Krishna,model_name:Ranger over,model_number:2024,colour:Black,fuel_type:Gas,tyres:Magwheel,sunroof:True,speed:220km/hr,gear_type:True,led_display:False,engine_type:Four stroke Engine\n",
            "Krishna is turning left to the hospital\n",
            "Krishna is changing the sunroof\n"
          ]
        },
        {
          "data": {
            "application/vnd.google.colaboratory.intrinsic+json": {
              "type": "string"
            },
            "text/plain": [
              "'\\np1.set_colour(\"White\")\\nprint(p1.colour)\\np1.set_fuel_type(\"Diesel\")\\nprint(p1.fuel_type)\\np1.set_tyres(\"Sports\")\\nprint(p1.tyres)\\np1.set_sunroof(False)\\nprint(p1.sunroof)\\np1.set_speed(\"200km/hr\")\\nprint(p1.speed)\\np1.set_gear_type(False)\\nprint(p1.gear_type)\\np1.set_led_display(True)\\nprint(p1.led_display)\\np1.set_engine_type(\"Six stroke\")\\nprint(p1.engine_type)\\n\\n\\nprint(p1.get_name())\\nprint(p1.get_colour())\\nprint(p1.get_fuel_type())\\nprint(p1.get_tyres())\\nprint(p1.get_sunroof())\\nprint(p1.get_speed())\\nprint(p1.get_gear_type())\\nprint(p1.get_led_display())\\nprint(p1.get_engine_type())\\n'"
            ]
          },
          "execution_count": 5,
          "metadata": {},
          "output_type": "execute_result"
        }
      ],
      "source": [
        "class Car:\n",
        "    name = \"\" \t\t\t\t\t# Attributes and Attributes_values\n",
        "    model_name = \"\"\n",
        "    model_number = \"\"\n",
        "    colour = \"\"\n",
        "    fuel_type = \"\"\n",
        "    tyres = \"\"\n",
        "    sunroof = True\n",
        "    speed = \"\"\n",
        "    gear_type = True\n",
        "    led_display = True\n",
        "    engine_type = \"\"\n",
        "\n",
        "    def __init__(self,name,model_name,model_number,colour,fuel_type,tyres,sunroof,speed,gear_type,led_display,engine_type):\n",
        "      self.name =name\n",
        "      self.model_name = model_name\n",
        "      self.model_number = model_number\n",
        "      self.colour = colour\n",
        "      self.fuel_type = fuel_type\n",
        "      self.tyres = tyres\n",
        "      self.sunroof = sunroof\n",
        "      self.speed = speed\n",
        "      self.gear_type = gear_type\n",
        "      self.led_display = led_display\n",
        "      self.engine_type = engine_type\n",
        "\n",
        "    def __str__(self):\n",
        "      return f\"name:{self.name},model_name:{self.model_name},model_number:{self.model_number},colour:{self.colour},fuel_type:{self.fuel_type},tyres:{self.tyres},sunroof:{self.sunroof},speed:{self.speed},gear_type:{self.gear_type},led_display:{self.led_display},engine_type:{self.engine_type}\"\n",
        "\n",
        "    def set_name(self,new_name):\n",
        "      self.name = new_name\n",
        "    def get_name(self):\n",
        "      return self.name\n",
        "\n",
        "    def set_model_name(self,new_model_name):\n",
        "      self.model_name = new_model_name\n",
        "    def get_model_name(self):\n",
        "      return self.model_name\n",
        "\n",
        "    def set_model_number(self,new_model_number):\n",
        "      self.model_number = new_model_number\n",
        "    def get_model_number(self):\n",
        "      return self.model_number\n",
        "\n",
        "    def set_colour(self,new_colour):\n",
        "      self.colour = new_colour\n",
        "    def get_colour(self):\n",
        "      return self.colour\n",
        "\n",
        "    def set_fuel_type(self,new_fuel_type):\n",
        "      self.fuel_type = new_fuel_type\n",
        "    def get_fuel_type(self):\n",
        "      return self.fuel_type\n",
        "\n",
        "    def set_tyres(self,new_tyres):\n",
        "      self.tyres = new_tyres\n",
        "    def get_tyres(self):\n",
        "      return self.tyres\n",
        "\n",
        "\n",
        "    def set_sunroof(self,new_sunroof):\n",
        "      self.sunroof = new_sunroof\n",
        "    def get_sunroof(self):\n",
        "      return self.sunroof\n",
        "\n",
        "\n",
        "    def set_speed(self,new_speed):\n",
        "      self.speed = new_speed\n",
        "    def get_speed(self):\n",
        "      return self.speed\n",
        "\n",
        "\n",
        "    def set_gear_type(self,new_gear_type):\n",
        "      self.gear_type = new_gear_type\n",
        "    def get_gear_type(self):\n",
        "      return self.gear_type\n",
        "\n",
        "    def set_led_display(self,new_led_display):\n",
        "      self.led_display = new_led_display\n",
        "    def get_led_display(self):\n",
        "      return self.led_display\n",
        "\n",
        "    def set_engine_type(self,new_engine_type):\n",
        "      self.engine_type = new_engine_type\n",
        "    def get_engine_type(self):\n",
        "      return self.engine_type\n",
        "\n",
        "    def car_drive(self):\n",
        "      print(self.name + \" is driving the car to sanjay home\")\n",
        "\n",
        "    def car_stop(self):\n",
        "      print(self.name + \" is stopping the car infront of the Shopping mall\")\n",
        "\n",
        "    def car_turn_right(self):\n",
        "      print(self.name + \" is turning right to the office\")\n",
        "\n",
        "    def car_turn_left(self):\n",
        "      print(self.name + \" is turning left to the hospital\")\n",
        "\n",
        "    def car_brake(self):\n",
        "      print(self.name + \" is breaking the car because of \")\n",
        "\n",
        "    def car_accelerate(self):\n",
        "      print(self.name + \" is accelerating the car to reach office early \")\n",
        "\n",
        "    def car_change_gear(self):\n",
        "      print(self.name + \" is changing the gear\")\n",
        "\n",
        "    def car_change_tyres(self):\n",
        "      print(self.name + \" is  changing the tyres\")\n",
        "\n",
        "    def car_change_sunroof(self):\n",
        "      print(self.name + \" is changing the sunroof\")\n",
        "\n",
        "    def car_change_speed(self):\n",
        "      print(self.name + \" is changing the speed\")\n",
        "\n",
        "    def car_change_led_display(self):\n",
        "      print(self.name + \" is changing the led display\")\n",
        "\n",
        "    def car_change_engine_type(self):\n",
        "      print(self.name + \" is changing the engine type\")\n",
        "\n",
        "\n",
        "\n",
        "p1 = Car(\"Sujay\",\"Innova\",\"2023\",\"Meroon\",\"Petrol\",\"Normal\",True,\"150km/hr\",False,False,\"Two stroke Engine\")\n",
        "print(p1.__str__())\n",
        "p1.car_drive()\n",
        "p1.car_stop()\n",
        "\n",
        "p2 = Car(\"Rony\",\"Eratiga\",\"2022\",\"Black\",\"Desiel\",\"Magwheel\",False,\"170km/hr\",True,False,\"Four stroke Engine\")\n",
        "print(p2.__str__())\n",
        "p2.car_accelerate()\n",
        "p2.car_change_gear()\n",
        "\n",
        "p3 = Car(\"Abay\",\"Q7\",\"2024\",\"White\",\"Electric\",\"Magwheel\",True,\"250km/hr\",True,True,\"six stroke Engine\")\n",
        "print(p3.__str__())\n",
        "p3.car_brake()\n",
        "p3.car_change_tyres()\n",
        "\n",
        "p4 = Car(\"Krishna\",\"Ranger over\",\"2024\",\"Black\",\"Gas\",\"Magwheel\",True,\"220km/hr\",True,False,\"Four stroke Engine\")\n",
        "print(p4.__str__())\n",
        "p4.car_turn_left()\n",
        "p4.car_change_sunroof()\n",
        "\n",
        "\n",
        "\n",
        "\n",
        "\n",
        "'''\n",
        "p1.set_colour(\"White\")\n",
        "print(p1.colour)\n",
        "p1.set_fuel_type(\"Diesel\")\n",
        "print(p1.fuel_type)\n",
        "p1.set_tyres(\"Sports\")\n",
        "print(p1.tyres)\n",
        "p1.set_sunroof(False)\n",
        "print(p1.sunroof)\n",
        "p1.set_speed(\"200km/hr\")\n",
        "print(p1.speed)\n",
        "p1.set_gear_type(False)\n",
        "print(p1.gear_type)\n",
        "p1.set_led_display(True)\n",
        "print(p1.led_display)\n",
        "p1.set_engine_type(\"Six stroke\")\n",
        "print(p1.engine_type)\n",
        "\n",
        "\n",
        "print(p1.get_name())\n",
        "print(p1.get_colour())\n",
        "print(p1.get_fuel_type())\n",
        "print(p1.get_tyres())\n",
        "print(p1.get_sunroof())\n",
        "print(p1.get_speed())\n",
        "print(p1.get_gear_type())\n",
        "print(p1.get_led_display())\n",
        "print(p1.get_engine_type())\n",
        "'''\n",
        "\n",
        "\n",
        "\n",
        "\n",
        "\n",
        "\n",
        "\n"
      ]
    },
    {
      "cell_type": "code",
      "execution_count": null,
      "metadata": {
        "colab": {
          "base_uri": "https://localhost:8080/",
          "height": 226
        },
        "id": "cOtPbKAqR3Sf",
        "outputId": "737a9c1a-d204-4642-a783-7d33dcb375f1"
      },
      "outputs": [
        {
          "name": "stdout",
          "output_type": "stream",
          "text": [
            "name:Ballpoint,ink_type:Ball,refill:Plastic,pencolour:Blue,cap:True,size:Thick\n",
            "Ballpoint is writing\n",
            "Ballpoint is erasing\n",
            "name:Cello,ink_type:Gel,refill:Plastic,pencolour:Red,cap:False,size:Thin\n",
            "Cello is drawing\n",
            "Cello is filling\n",
            "name:Flair,ink_type:ink,refill:Plastic,pencolour:Black,cap:True,size:Thick\n",
            "Flair is erasing all\n",
            "Flair is changing the size\n"
          ]
        },
        {
          "data": {
            "application/vnd.google.colaboratory.intrinsic+json": {
              "type": "string"
            },
            "text/plain": [
              "'\\nr1.set_name(\"Ballpoint\")\\nprint(r1.name)\\n\\nr1.set_ink_type(\"Ball\")\\nprint(r1.ink_type)\\n\\nr1.set_refill(\"Plastic\")\\nprint(r1.refill)\\n\\nr1.set_pencolour(\"Blue\")\\nprint(r1.pencolour)\\n\\nr1.set_cap(True)\\nprint(r1.cap)\\n\\nr1.set_size(\"Thick\")\\nprint(r1.size)\\n\\nr1.set_size(\"Thin\")\\nprint(r1.size)\\n\\nr1.get_name()\\nprint(r1.name)\\n\\nr1.get_ink_type()\\nprint(r1.ink_type)\\n\\nr1.get_refill()\\nprint(r1.refill)\\n\\nr1.get_pencolour()\\nprint(r1.pencolour)\\n\\nr1.get_cap()\\nprint(r1.cap)\\n\\nr1.get_size()\\nprint(r1.size)\\n\\n'"
            ]
          },
          "execution_count": 8,
          "metadata": {},
          "output_type": "execute_result"
        }
      ],
      "source": [
        "class Pen:\n",
        "    name = \"\"\n",
        "    ink_type = \"\"\n",
        "    refill = \"\"\n",
        "    pencolour = \"\"\n",
        "    cap = True\n",
        "    size = \"\"\n",
        "\n",
        "    def __init__(self,name,ink_type,refill,pencolour,cap,size):\n",
        "      self.name = name\n",
        "      self.ink_type = ink_type\n",
        "      self.refill = refill\n",
        "      self.pencolour = pencolour\n",
        "      self.cap = cap\n",
        "      self.size = size\n",
        "\n",
        "    def __str__(self):\n",
        "      return f\"name:{self.name},ink_type:{self.ink_type},refill:{self.refill},pencolour:{self.pencolour},cap:{self.cap},size:{self.size}\"\n",
        "\n",
        "    def set_name(self,new_name):\n",
        "      self.name = new_name\n",
        "\n",
        "    def get_name(self):\n",
        "      return self.name\n",
        "\n",
        "    def set_ink_type(self,new_ink_type):\n",
        "      self.ink_type = new_ink_type\n",
        "\n",
        "    def get_ink_type(self):\n",
        "      return self.ink_type\n",
        "\n",
        "    def set_refill(self,new_refill):\n",
        "      self.refill = new_refill\n",
        "\n",
        "    def get_refill(self):\n",
        "      return self.refill\n",
        "\n",
        "    def set_pencolour(self,new_pencolour):\n",
        "      self.pencolour = new_pencolour\n",
        "\n",
        "    def get_pencolour(self):\n",
        "      return self.pencolour\n",
        "\n",
        "    def set_cap(self,new_cap):\n",
        "      self.cap = new_cap\n",
        "\n",
        "    def get_cap(self):\n",
        "      return self.cap\n",
        "\n",
        "    def set_size(self,new_size):\n",
        "      self.size = new_size\n",
        "\n",
        "    def get_size(self):\n",
        "      return self.size\n",
        "\n",
        "    def pen_write(self):\n",
        "      print(self.name + \" is writing\")\n",
        "\n",
        "    def pen_erase(self):\n",
        "      print(self.name + \" is erasing\")\n",
        "\n",
        "    def pen_draw(self):\n",
        "      print(self.name + \" is drawing\")\n",
        "\n",
        "    def pen_fill(self):\n",
        "      print(self.name + \" is filling\")\n",
        "\n",
        "    def pen_erase_all(self):\n",
        "      print(self.name + \" is erasing all\")\n",
        "\n",
        "    def pen_change_size(self):\n",
        "      print(self.name + \" is changing the size\")\n",
        "\n",
        "    def pen_change_ink_type(self):\n",
        "      print(self.name + \" is changing the ink type\")\n",
        "\n",
        "    def pen_change_refill(self):\n",
        "      print(self.name + \" is changing the refill\")\n",
        "\n",
        "    def pen_change_pencolour(self):\n",
        "      print(self.name + \" is changing the pencolour\")\n",
        "\n",
        "    def pen_change_cap(self):\n",
        "      print(self.name + \" is changing the cap\")\n",
        "\n",
        "\n",
        "\n",
        "\n",
        "\n",
        "r1 = Pen(\"Ballpoint\",\"Ball\",\"Plastic\",\"Blue\",True,\"Thick\")\n",
        "print(r1.__str__())\n",
        "r1.pen_write()\n",
        "r1.pen_erase()\n",
        "\n",
        "r2 = Pen(\"Cello\",\"Gel\",\"Plastic\",\"Red\",False,\"Thin\")\n",
        "print(r2.__str__())\n",
        "r2.pen_draw()\n",
        "r2.pen_fill()\n",
        "\n",
        "r3 = Pen(\"Flair\",\"ink\",\"Plastic\",\"Black\",True,\"Thick\")\n",
        "print(r3.__str__())\n",
        "r3.pen_erase_all()\n",
        "r3.pen_change_size()\n",
        "\n",
        "'''\n",
        "r1.set_name(\"Ballpoint\")\n",
        "print(r1.name)\n",
        "\n",
        "r1.set_ink_type(\"Ball\")\n",
        "print(r1.ink_type)\n",
        "\n",
        "r1.set_refill(\"Plastic\")\n",
        "print(r1.refill)\n",
        "\n",
        "r1.set_pencolour(\"Blue\")\n",
        "print(r1.pencolour)\n",
        "\n",
        "r1.set_cap(True)\n",
        "print(r1.cap)\n",
        "\n",
        "r1.set_size(\"Thick\")\n",
        "print(r1.size)\n",
        "\n",
        "r1.set_size(\"Thin\")\n",
        "print(r1.size)\n",
        "\n",
        "r1.get_name()\n",
        "print(r1.name)\n",
        "\n",
        "r1.get_ink_type()\n",
        "print(r1.ink_type)\n",
        "\n",
        "r1.get_refill()\n",
        "print(r1.refill)\n",
        "\n",
        "r1.get_pencolour()\n",
        "print(r1.pencolour)\n",
        "\n",
        "r1.get_cap()\n",
        "print(r1.cap)\n",
        "\n",
        "r1.get_size()\n",
        "print(r1.size)\n",
        "\n",
        "'''\n",
        "\n",
        "\n",
        "\n"
      ]
    },
    {
      "cell_type": "code",
      "execution_count": null,
      "metadata": {
        "colab": {
          "base_uri": "https://localhost:8080/"
        },
        "id": "AeL2qNvpW9uI",
        "outputId": "4179525c-4135-4a7a-fd97-0f5a0a77a220"
      },
      "outputs": [
        {
          "name": "stdout",
          "output_type": "stream",
          "text": [
            "[1, 2, 3, 4, 6, 8]\n"
          ]
        }
      ],
      "source": [
        "# Adding elements to the  LIST\n",
        "\n",
        "my_list = []\t\t\t\t\t# defining empty list\n",
        "my_list = [1,2,3,4,6]\n",
        "my_list.append(8)\n",
        "print(my_list)"
      ]
    },
    {
      "cell_type": "code",
      "execution_count": null,
      "metadata": {
        "colab": {
          "base_uri": "https://localhost:8080/"
        },
        "id": "pfXeJEavb8ON",
        "outputId": "504fae62-46ae-43d2-8527-a3988c004da4"
      },
      "outputs": [
        {
          "name": "stdout",
          "output_type": "stream",
          "text": [
            "134541429074368\n",
            "134541429074368\n",
            "[2, 3, 4, 5, 6, 8]\n",
            "[2, 3, 4, 5, 6, 8]\n"
          ]
        },
        {
          "data": {
            "text/plain": [
              "True"
            ]
          },
          "execution_count": 10,
          "metadata": {},
          "output_type": "execute_result"
        }
      ],
      "source": [
        "# Deep copy\n",
        "data = [2,3,4,5,6,8]\n",
        "temp = data\n",
        "data.pop\n",
        "print(id(data))\n",
        "print(id(temp))\n",
        "print(data)\n",
        "print(temp)\n",
        "data is temp\n"
      ]
    },
    {
      "cell_type": "code",
      "execution_count": null,
      "metadata": {
        "colab": {
          "base_uri": "https://localhost:8080/"
        },
        "id": "Pw4iCzyQ98vk",
        "outputId": "7d5bb397-fab3-40d0-b79a-1427b97607bc"
      },
      "outputs": [
        {
          "name": "stdout",
          "output_type": "stream",
          "text": [
            "134541429170304\n",
            "134541428945024\n",
            "[2, 3, 4, 5, 6, 8]\n",
            "[2, 3, 4, 5, 6, 8]\n"
          ]
        },
        {
          "data": {
            "text/plain": [
              "False"
            ]
          },
          "execution_count": 11,
          "metadata": {},
          "output_type": "execute_result"
        }
      ],
      "source": [
        "# Shallow copy\n",
        "data = [2,3,4,5,6,8]\n",
        "temp = data.copy()\n",
        "data.pop\n",
        "print(id(data))\n",
        "print(id(temp))\n",
        "print(data)\n",
        "print(temp)\n",
        "data is temp"
      ]
    },
    {
      "cell_type": "code",
      "execution_count": null,
      "metadata": {
        "colab": {
          "base_uri": "https://localhost:8080/"
        },
        "id": "F-VyJFhx-n9y",
        "outputId": "23494715-a61b-4bba-fa61-fd8ba5ed3f2b"
      },
      "outputs": [
        {
          "name": "stdout",
          "output_type": "stream",
          "text": [
            "11 is odd\n",
            "24 is even\n",
            "37 is odd\n",
            "46 is even\n",
            "58 is even\n",
            "60 is even\n"
          ]
        }
      ],
      "source": [
        "# Even or add\n",
        "list = [11,24,37,46,58,60]\n",
        "for i in list:\n",
        "  if i%2 == 0:\n",
        "    print(i,\"is even\")\n",
        "  else:\n",
        "    print(i,\"is odd\")"
      ]
    },
    {
      "cell_type": "code",
      "execution_count": null,
      "metadata": {
        "colab": {
          "base_uri": "https://localhost:8080/"
        },
        "id": "G1jfMdXz633F",
        "outputId": "6e70d1e8-3886-44e7-93a5-6b9fe0b963e1"
      },
      "outputs": [
        {
          "name": "stdout",
          "output_type": "stream",
          "text": [
            "60is even\n"
          ]
        }
      ],
      "source": [
        "list = [11,24,37,46,58,60]\n",
        "if i%2 == 1:\n",
        "  print(str(i) +\"is odd\")\n",
        "if i%2 ==0:\n",
        "  print(str(i) +\"is even\")"
      ]
    },
    {
      "cell_type": "code",
      "execution_count": null,
      "metadata": {
        "colab": {
          "base_uri": "https://localhost:8080/"
        },
        "id": "KJzbpZ0G7wLx",
        "outputId": "47e9441c-93b4-4c0d-b47f-86ad1531f456"
      },
      "outputs": [
        {
          "name": "stdout",
          "output_type": "stream",
          "text": [
            "60\n",
            "11\n"
          ]
        }
      ],
      "source": [
        "# Maximum and minimum number\n",
        "list = [11,24,37,46,58,60]\n",
        "print(max(list))\n",
        "print(min(list))"
      ]
    },
    {
      "cell_type": "code",
      "execution_count": null,
      "metadata": {
        "colab": {
          "base_uri": "https://localhost:8080/"
        },
        "id": "bNisAKKr8gJV",
        "outputId": "0d379a02-1190-4163-8f83-8587a8f3ccf3"
      },
      "outputs": [
        {
          "name": "stdout",
          "output_type": "stream",
          "text": [
            "max is str (max)\n"
          ]
        }
      ],
      "source": [
        "list = [11,24,37,46,58,60]\n",
        "max = list[0]\n",
        "for i in list:\n",
        "  if i > max:\n",
        "    max = i\n",
        "print(\"max is str (max)\")"
      ]
    },
    {
      "cell_type": "code",
      "execution_count": null,
      "metadata": {
        "colab": {
          "base_uri": "https://localhost:8080/"
        },
        "id": "2_RP75g88URq",
        "outputId": "f7896f92-984c-4430-ad6b-9d0522602c14"
      },
      "outputs": [
        {
          "name": "stdout",
          "output_type": "stream",
          "text": [
            "[11, 24, 37, 46, 58, 60]\n"
          ]
        }
      ],
      "source": [
        "list = [11,24,37,46,58,60]\n",
        "list.sort()\n",
        "print(list)"
      ]
    },
    {
      "cell_type": "code",
      "execution_count": null,
      "metadata": {
        "colab": {
          "base_uri": "https://localhost:8080/"
        },
        "id": "9YHxo-sX8Y5Y",
        "outputId": "c798c852-9994-4f01-8032-5c5f2b9753ed"
      },
      "outputs": [
        {
          "name": "stdout",
          "output_type": "stream",
          "text": [
            "[60, 58, 46, 37, 24, 11]\n"
          ]
        }
      ],
      "source": [
        "list = [11,24,37,46,58,60]\n",
        "list.reverse()\n",
        "print(list)"
      ]
    },
    {
      "cell_type": "code",
      "execution_count": null,
      "metadata": {
        "colab": {
          "base_uri": "https://localhost:8080/"
        },
        "id": "aCNKMjo78dzB",
        "outputId": "0026af21-a6bf-4716-f968-2b60be600664"
      },
      "outputs": [
        {
          "name": "stdout",
          "output_type": "stream",
          "text": [
            "[60, 58, 46, 37, 24, 11]\n"
          ]
        }
      ],
      "source": [
        "list = [11,24,37,46,58,60]\n",
        "list.sort(reverse=True)\n",
        "print(list)"
      ]
    },
    {
      "cell_type": "code",
      "execution_count": null,
      "metadata": {
        "colab": {
          "base_uri": "https://localhost:8080/"
        },
        "id": "COGbIUWN9RRA",
        "outputId": "23f64944-1f17-4d16-d55a-b50fee38a6c4"
      },
      "outputs": [
        {
          "name": "stdout",
          "output_type": "stream",
          "text": [
            "[11, 24, 37, 46, 58, 60]\n"
          ]
        }
      ],
      "source": [
        "list = [11,24,37,46,58,60]\n",
        "list.sort(reverse=False)\n",
        "print(list)"
      ]
    },
    {
      "cell_type": "code",
      "execution_count": null,
      "metadata": {
        "colab": {
          "base_uri": "https://localhost:8080/"
        },
        "id": "AqEZPAvQ9VSQ",
        "outputId": "3e359df8-9b56-42f2-c0c8-f480bab639d5"
      },
      "outputs": [
        {
          "name": "stdout",
          "output_type": "stream",
          "text": [
            "sum is 236\n"
          ]
        }
      ],
      "source": [
        "# Sum of numbers in list\n",
        "list = [11,24,37,46,58,60]\n",
        "sum = 0\n",
        "for i in list:\n",
        "  sum = sum + i\n",
        "print(\"sum is \" + str(sum))"
      ]
    },
    {
      "cell_type": "code",
      "execution_count": null,
      "metadata": {
        "colab": {
          "base_uri": "https://localhost:8080/"
        },
        "id": "jLY9a6Pl9bbX",
        "outputId": "b78c6c6c-223f-4261-e69c-8bfaf39592fb"
      },
      "outputs": [
        {
          "name": "stdout",
          "output_type": "stream",
          "text": [
            "Avg is 39.333333333333336\n"
          ]
        }
      ],
      "source": [
        "list = [11,24,37,46,58,60]\n",
        "sum = 0\n",
        "for i in list:\n",
        "  sum += i\n",
        "print(\"Avg is \" + str(sum/6))\n"
      ]
    },
    {
      "cell_type": "code",
      "execution_count": null,
      "metadata": {
        "colab": {
          "base_uri": "https://localhost:8080/"
        },
        "id": "2dVRIM11AQWA",
        "outputId": "435b6cf9-2e7b-4fe9-c18a-3df92d80793f"
      },
      "outputs": [
        {
          "name": "stdout",
          "output_type": "stream",
          "text": [
            "Avg is 39.333333333333336\n"
          ]
        }
      ],
      "source": [
        "list = [11,24,37,46,58,60]\n",
        "sum = 0\n",
        "for i in list:\n",
        "  sum += i\n",
        "print(\"Avg is \" + str(sum/len(list)))"
      ]
    },
    {
      "cell_type": "code",
      "execution_count": null,
      "metadata": {
        "colab": {
          "base_uri": "https://localhost:8080/"
        },
        "id": "7QNuC1Z3LxDI",
        "outputId": "06848642-16e7-4f48-957d-6e068401da91"
      },
      "outputs": [
        {
          "name": "stdout",
          "output_type": "stream",
          "text": [
            "even is 6\n",
            "odd is 5\n"
          ]
        }
      ],
      "source": [
        "# Frequency of odd and even number in a list\n",
        "list = [10,11,12,13,14,15,16,17,18,19,20]\n",
        "num_even = 0\n",
        "num_odd = 0\n",
        "for i in list:\n",
        "  if i%2 == 0:\n",
        "    num_even += 1\n",
        "  else:\n",
        "    num_odd += 1\n",
        "print(\"even is \" + str(num_even))\n",
        "print(\"odd is \" + str(num_odd))"
      ]
    },
    {
      "cell_type": "code",
      "execution_count": null,
      "metadata": {
        "colab": {
          "base_uri": "https://localhost:8080/"
        },
        "id": "TgPIeVccMxpF",
        "outputId": "0ef7107a-7174-4740-bc18-a388f88144f5"
      },
      "outputs": [
        {
          "name": "stdout",
          "output_type": "stream",
          "text": [
            "2 x 1 = 2\n",
            "2 x 2 = 4\n",
            "2 x 3 = 6\n",
            "2 x 4 = 8\n",
            "2 x 5 = 10\n",
            "2 x 6 = 12\n",
            "2 x 7 = 14\n",
            "2 x 8 = 16\n",
            "2 x 9 = 18\n",
            "2 x 10 = 20\n"
          ]
        }
      ],
      "source": [
        "# Multiplication table of 2\n",
        "num = 2\n",
        "for i in range(1,11):\n",
        "  print(num,\"x\",i,\"=\",num*i)"
      ]
    },
    {
      "cell_type": "code",
      "execution_count": null,
      "metadata": {
        "colab": {
          "base_uri": "https://localhost:8080/"
        },
        "id": "jFm_DbmVOH1l",
        "outputId": "9e243eb1-907a-4f9e-cff4-f7ee3e39e30b"
      },
      "outputs": [
        {
          "name": "stdout",
          "output_type": "stream",
          "text": [
            "64\n"
          ]
        }
      ],
      "source": [
        "# power off\n",
        "\n",
        "num = 4\n",
        "pow = 3\n",
        "result = 1\n",
        "for i in range(pow):\n",
        "  result = result * num\n",
        "print(result)"
      ]
    },
    {
      "cell_type": "code",
      "execution_count": null,
      "metadata": {
        "colab": {
          "base_uri": "https://localhost:8080/"
        },
        "id": "YgZgBMEIQ6QZ",
        "outputId": "ea3f8277-6f08-40b5-feda-6e8f5bf3d080"
      },
      "outputs": [
        {
          "name": "stdout",
          "output_type": "stream",
          "text": [
            "64\n"
          ]
        }
      ],
      "source": [
        "num = 4\n",
        "pow = 3\n",
        "result = 1\n",
        "while pow > 0:\n",
        "  result = result * num\n",
        "  pow = pow - 1\n",
        "print(result)"
      ]
    },
    {
      "cell_type": "code",
      "execution_count": null,
      "metadata": {
        "colab": {
          "base_uri": "https://localhost:8080/"
        },
        "id": "7syaLYv9RLct",
        "outputId": "e2a0a6f7-b3c2-459f-ccac-83a4c969b9ff"
      },
      "outputs": [
        {
          "name": "stdout",
          "output_type": "stream",
          "text": [
            "power of number4 is 64\n"
          ]
        }
      ],
      "source": [
        "num = 4\n",
        "pow = 3\n",
        "num_pow = num ** pow\n",
        "print(\"power of number\" + str( num ) + \" is \" + str(num_pow))"
      ]
    },
    {
      "cell_type": "code",
      "execution_count": null,
      "metadata": {
        "colab": {
          "base_uri": "https://localhost:8080/"
        },
        "id": "SHmtn9dNR4x0",
        "outputId": "1a3e95a2-7771-42f1-bdc2-d91df604c580"
      },
      "outputs": [
        {
          "name": "stdout",
          "output_type": "stream",
          "text": [
            "24\n"
          ]
        }
      ],
      "source": [
        "# Factorial of number\n",
        "num = 4\n",
        "fact = 1\n",
        "for i in range(1,num+1):\n",
        "  fact = fact * i\n",
        "print(fact)\n"
      ]
    },
    {
      "cell_type": "code",
      "execution_count": null,
      "metadata": {
        "colab": {
          "base_uri": "https://localhost:8080/"
        },
        "id": "dXjXydI8SRJD",
        "outputId": "fbe5286a-57fa-491a-f312-dba557acb1bd"
      },
      "outputs": [
        {
          "name": "stdout",
          "output_type": "stream",
          "text": [
            "24\n"
          ]
        }
      ],
      "source": [
        "num = 4\n",
        "fact = 1\n",
        "while num > 0:\n",
        "  fact = fact * num\n",
        "  num = num - 1\n",
        "print(fact)"
      ]
    },
    {
      "cell_type": "code",
      "execution_count": null,
      "metadata": {
        "colab": {
          "base_uri": "https://localhost:8080/"
        },
        "id": "OevmzSAsS4oV",
        "outputId": "341f6584-2819-4240-eff0-0dde2145021c"
      },
      "outputs": [
        {
          "name": "stdout",
          "output_type": "stream",
          "text": [
            "20\n",
            "10\n"
          ]
        }
      ],
      "source": [
        "# Swapping numbers\n",
        "\n",
        "num1 = 10\n",
        "num2 = 20\n",
        "temp = num1\n",
        "num1 = num2\n",
        "num2 = temp\n",
        "print(num1)\n",
        "print(num2)"
      ]
    },
    {
      "cell_type": "code",
      "execution_count": null,
      "metadata": {
        "colab": {
          "base_uri": "https://localhost:8080/"
        },
        "id": "A4Ci6bndTHt1",
        "outputId": "e67ba2ac-df4d-47f1-fe0a-d38f9adac73f"
      },
      "outputs": [
        {
          "name": "stdout",
          "output_type": "stream",
          "text": [
            "20\n",
            "10\n"
          ]
        }
      ],
      "source": [
        "num1 = 10\n",
        "num2 = 20\n",
        "num1,num2 = num2,num1\n",
        "print(num1)\n",
        "print(num2)"
      ]
    },
    {
      "cell_type": "code",
      "execution_count": null,
      "metadata": {
        "colab": {
          "base_uri": "https://localhost:8080/"
        },
        "id": "B8zZt0jZTLQT",
        "outputId": "ae83e95f-932c-4696-a337-3accd6f79f86"
      },
      "outputs": [
        {
          "name": "stdout",
          "output_type": "stream",
          "text": [
            "20\n",
            "10\n"
          ]
        }
      ],
      "source": [
        "num1 = 10\n",
        "num2 = 20\n",
        "num1 = num1 + num2\n",
        "num2 = num1 - num2\n",
        "num1 = num1 - num2\n",
        "print(num1)\n",
        "print(num2)"
      ]
    },
    {
      "cell_type": "code",
      "execution_count": null,
      "metadata": {
        "colab": {
          "base_uri": "https://localhost:8080/"
        },
        "id": "5Akw0fM0TOwg",
        "outputId": "ed93820f-b16f-4c92-cfb2-22acfbfd46a7"
      },
      "outputs": [
        {
          "name": "stdout",
          "output_type": "stream",
          "text": [
            "20\n",
            "10\n"
          ]
        }
      ],
      "source": [
        "num1 = 10\n",
        "num2 = 20\n",
        "num1 = num1 ^ num2\n",
        "num2 = num1 ^ num2\n",
        "num1 = num1 ^ num2\n",
        "print(num1)\n",
        "print(num2)"
      ]
    },
    {
      "cell_type": "code",
      "execution_count": null,
      "metadata": {
        "colab": {
          "base_uri": "https://localhost:8080/"
        },
        "id": "yvrdZCIVTUpe",
        "outputId": "ca37ee40-608e-4227-db7e-d07ea5280586"
      },
      "outputs": [
        {
          "name": "stdout",
          "output_type": "stream",
          "text": [
            "20.0\n",
            "10.0\n"
          ]
        }
      ],
      "source": [
        "num1 = 10\n",
        "num2 = 20\n",
        "num1 = num1 * num2\n",
        "num2 = num1 / num2\n",
        "num1 = num1 / num2\n",
        "print(num1)\n",
        "print(num2)"
      ]
    },
    {
      "cell_type": "code",
      "execution_count": null,
      "metadata": {
        "colab": {
          "base_uri": "https://localhost:8080/"
        },
        "id": "6kPzEXCKTdAM",
        "outputId": "05d301c2-ef74-4717-fe9e-d1778bc98e77"
      },
      "outputs": [
        {
          "name": "stdout",
          "output_type": "stream",
          "text": [
            "number1 is20\n",
            "number2 is10\n"
          ]
        }
      ],
      "source": [
        "from os import TMP_MAX\n",
        "num1 = 10\n",
        "num2 = 20\n",
        "\n",
        "tmp = num1\n",
        "num1 = num2\n",
        "num2 = tmp\n",
        "print(\"number1 is\" + str(num1))\n",
        "print(\"number2 is\" + str(num2))"
      ]
    },
    {
      "cell_type": "code",
      "execution_count": null,
      "metadata": {
        "colab": {
          "base_uri": "https://localhost:8080/"
        },
        "id": "MgRDHmbFTrPF",
        "outputId": "8e4eaf07-6f7e-4aa2-c0d6-1b7218b67cea"
      },
      "outputs": [
        {
          "name": "stdout",
          "output_type": "stream",
          "text": [
            "1\n"
          ]
        }
      ],
      "source": [
        "# Count frequency of number in a list\n",
        "\n",
        "list = [10,11,12,13,14,15,16,17,18,19,20]\n",
        "num = 10\n",
        "count = 0\n",
        "for i in list:\n",
        "  if i == num:\n",
        "    count += 1\n",
        "print(count)"
      ]
    },
    {
      "cell_type": "code",
      "execution_count": null,
      "metadata": {
        "colab": {
          "base_uri": "https://localhost:8080/"
        },
        "id": "uLWxQsyrUj6F",
        "outputId": "23d69cf7-8e6d-43cf-b716-d2de03cdb6c0"
      },
      "outputs": [
        {
          "name": "stdout",
          "output_type": "stream",
          "text": [
            "1\n"
          ]
        }
      ],
      "source": [
        "list = [10,11,12,13,14,15,16,17,18,19,20]\n",
        "num = 10\n",
        "count = list.count(num)\n",
        "print(count)"
      ]
    },
    {
      "cell_type": "code",
      "execution_count": null,
      "metadata": {
        "colab": {
          "base_uri": "https://localhost:8080/"
        },
        "id": "n41ntox_Usrv",
        "outputId": "119d48c7-0acd-48e8-e63b-0cf5454bce21"
      },
      "outputs": [
        {
          "name": "stdout",
          "output_type": "stream",
          "text": [
            "number of occurrences is2\n"
          ]
        }
      ],
      "source": [
        "list = [10,11,12,13,14,15,16,17,18,19,20]\n",
        "num = 10,20\n",
        "count = 0\n",
        "for i in list:\n",
        "  if i in num:\n",
        "    count += 1\n",
        "print(\"number of occurrences is\" + str(count))"
      ]
    },
    {
      "cell_type": "code",
      "execution_count": null,
      "metadata": {
        "colab": {
          "base_uri": "https://localhost:8080/"
        },
        "id": "oMpX4V_zVPwj",
        "outputId": "9cc79f23-1d29-4f5b-d403-c1914fca428a"
      },
      "outputs": [
        {
          "name": "stdout",
          "output_type": "stream",
          "text": [
            "[20, 19, 18, 17, 16, 15, 14, 13, 12, 11, 10]\n"
          ]
        }
      ],
      "source": [
        "# Reversing a list with built in function\n",
        "list = [10,11,12,13,14,15,16,17,18,19,20]\n",
        "list.reverse()\n",
        "print(list)"
      ]
    },
    {
      "cell_type": "code",
      "execution_count": null,
      "metadata": {
        "colab": {
          "base_uri": "https://localhost:8080/"
        },
        "id": "ffq1PEgKVz5u",
        "outputId": "0b0e7d18-3a78-487a-9cd3-2ce8726c2ccd"
      },
      "outputs": [
        {
          "name": "stdout",
          "output_type": "stream",
          "text": [
            "20\n",
            "19\n",
            "18\n",
            "17\n",
            "16\n",
            "15\n",
            "14\n",
            "13\n",
            "12\n",
            "11\n",
            "10\n"
          ]
        }
      ],
      "source": [
        "# Reversing a list without built in function\n",
        "list = [10,11,12,13,14,15,16,17,18,19,20]\n",
        "for i in list[::-1]:\n",
        "  print(i)\n"
      ]
    },
    {
      "cell_type": "code",
      "execution_count": null,
      "metadata": {
        "colab": {
          "base_uri": "https://localhost:8080/"
        },
        "id": "l322ZQlioqT_",
        "outputId": "a56fec34-3008-45e8-8a44-11ee5bfe7d3b"
      },
      "outputs": [
        {
          "name": "stdout",
          "output_type": "stream",
          "text": [
            "I am learning python\n"
          ]
        }
      ],
      "source": [
        "# Strings\n",
        "\n",
        "my_str = \"I am learning python\"\n",
        "print(my_str)\n"
      ]
    },
    {
      "cell_type": "code",
      "execution_count": null,
      "metadata": {
        "colab": {
          "base_uri": "https://localhost:8080/"
        },
        "id": "cEEFZ60HpFo5",
        "outputId": "8e6bc74b-1a98-47a8-82d5-996b92f7d8bc"
      },
      "outputs": [
        {
          "name": "stdout",
          "output_type": "stream",
          "text": [
            "I\n",
            " \n",
            "a\n",
            "m\n",
            " \n",
            "l\n",
            "e\n",
            "a\n",
            "r\n",
            "n\n",
            "i\n",
            "n\n",
            "g\n",
            " \n",
            "p\n",
            "y\n",
            "t\n",
            "h\n",
            "o\n",
            "n\n"
          ]
        }
      ],
      "source": [
        "for i in my_str:\n",
        "  print(i)"
      ]
    },
    {
      "cell_type": "code",
      "execution_count": null,
      "metadata": {
        "colab": {
          "base_uri": "https://localhost:8080/"
        },
        "id": "Yr67U2pNpGAV",
        "outputId": "afd2ad3d-2ab0-49d4-db22-d21900e8cbb7"
      },
      "outputs": [
        {
          "name": "stdout",
          "output_type": "stream",
          "text": [
            "I am\n"
          ]
        }
      ],
      "source": [
        "print (my_str[:4])"
      ]
    },
    {
      "cell_type": "code",
      "execution_count": null,
      "metadata": {
        "colab": {
          "base_uri": "https://localhost:8080/"
        },
        "id": "SuIqObZjpylb",
        "outputId": "2de96927-a06b-4a82-f04d-946ed06d0861"
      },
      "outputs": [
        {
          "name": "stdout",
          "output_type": "stream",
          "text": [
            " learning python\n"
          ]
        }
      ],
      "source": [
        "print (my_str[4:])"
      ]
    },
    {
      "cell_type": "code",
      "execution_count": null,
      "metadata": {
        "colab": {
          "base_uri": "https://localhost:8080/"
        },
        "id": "5O6TZcaBpy3u",
        "outputId": "5b2617c3-2e2b-48e2-946f-eefc5b4d3a4d"
      },
      "outputs": [
        {
          "name": "stdout",
          "output_type": "stream",
          "text": [
            "nohtyp gninrael ma I\n"
          ]
        }
      ],
      "source": [
        "print (my_str[::-1])"
      ]
    },
    {
      "cell_type": "code",
      "execution_count": null,
      "metadata": {
        "colab": {
          "base_uri": "https://localhost:8080/"
        },
        "id": "Ou8OayHkqFwK",
        "outputId": "db13e47a-bd66-40f2-c9b1-1d59226fbbe7"
      },
      "outputs": [
        {
          "name": "stdout",
          "output_type": "stream",
          "text": [
            "I am l\n"
          ]
        }
      ],
      "source": [
        "# First 6 characters\n",
        "print (my_str[:6])"
      ]
    },
    {
      "cell_type": "code",
      "execution_count": null,
      "metadata": {
        "colab": {
          "base_uri": "https://localhost:8080/"
        },
        "id": "kLuqNv2VqF7f",
        "outputId": "07f98908-0a96-4e33-ddba-c6c56fb3ab5b"
      },
      "outputs": [
        {
          "name": "stdout",
          "output_type": "stream",
          "text": [
            "python\n"
          ]
        }
      ],
      "source": [
        "# Last 6 characters\n",
        "print (my_str[-6:])"
      ]
    },
    {
      "cell_type": "code",
      "execution_count": null,
      "metadata": {
        "colab": {
          "base_uri": "https://localhost:8080/"
        },
        "id": "6Y5zgB3vqGID",
        "outputId": "19a2d410-2878-4109-c048-52efbe8d4ae8"
      },
      "outputs": [
        {
          "name": "stdout",
          "output_type": "stream",
          "text": [
            "nohtyp gninrael ma I\n"
          ]
        }
      ],
      "source": [
        "# String in reverse order\n",
        "print (my_str[::-1])"
      ]
    },
    {
      "cell_type": "code",
      "execution_count": null,
      "metadata": {
        "colab": {
          "base_uri": "https://localhost:8080/"
        },
        "id": "K4LQyndrqGTm",
        "outputId": "502bf391-57d0-40c2-aeaf-baedd3cd014e"
      },
      "outputs": [
        {
          "name": "stdout",
          "output_type": "stream",
          "text": [
            "I am learning Python Besant Technologies\n"
          ]
        }
      ],
      "source": [
        "# Concatenation of string\n",
        "my_str = \"I am learning Python\"\n",
        "new_str = \"Besant Technologies\"\n",
        "third_str = my_str + \" \" + new_str\n",
        "print(third_str)"
      ]
    },
    {
      "cell_type": "code",
      "execution_count": null,
      "metadata": {
        "colab": {
          "base_uri": "https://localhost:8080/"
        },
        "id": "HfDFDbDIrVqM",
        "outputId": "1612ac9e-01dc-4cab-fef6-7a4459b5d732"
      },
      "outputs": [
        {
          "name": "stdout",
          "output_type": "stream",
          "text": [
            "['I', 'am', 'learning', 'Python']\n"
          ]
        }
      ],
      "source": [
        "# Splitting string\n",
        "my_split = \"I am learning Python\"\n",
        "print(my_str.split())"
      ]
    },
    {
      "cell_type": "code",
      "execution_count": null,
      "metadata": {
        "colab": {
          "base_uri": "https://localhost:8080/"
        },
        "id": "op8k_8borymK",
        "outputId": "7b8f8c7a-a50d-4f77-efa2-98fe1855fd88"
      },
      "outputs": [
        {
          "name": "stdout",
          "output_type": "stream",
          "text": [
            "['I', 'am', 'learning', 'Python']\n"
          ]
        }
      ],
      "source": [
        "My_split = my_str.split()\n",
        "print(My_split)"
      ]
    },
    {
      "cell_type": "code",
      "execution_count": 11,
      "metadata": {
        "colab": {
          "base_uri": "https://localhost:8080/"
        },
        "id": "LcntJ9EKsQWv",
        "outputId": "f9496827-5af2-4977-ef00-2078502a4c59"
      },
      "outputs": [
        {
          "output_type": "stream",
          "name": "stdout",
          "text": [
            "I am learning Python I am learning Python\n",
            "no the word is not present in string\n"
          ]
        }
      ],
      "source": [
        "# Search a word in string\n",
        "my_str = \"I am learning Python\"\n",
        "new_str = \"In Besant technologies\"\n",
        "third_str = my_str + \" \" + my_str\n",
        "print(third_str)\n",
        "search_str = \"technologies\"\n",
        "if search_str in third_str:\n",
        "  print(\"yes the word is present in string\")\n",
        "else:\n",
        "  print(\"no the word is not present in string\")\n"
      ]
    },
    {
      "cell_type": "code",
      "execution_count": null,
      "metadata": {
        "colab": {
          "base_uri": "https://localhost:8080/"
        },
        "id": "PpS-CAJSIypb",
        "outputId": "2d306aad-1013-46fb-8bf2-ceab3a3910c9"
      },
      "outputs": [
        {
          "name": "stdout",
          "output_type": "stream",
          "text": [
            "I am Teaching Python In Besant technologies\n"
          ]
        }
      ],
      "source": [
        "# Replacing a word in a string\n",
        "my_str = \"I am learning Python\"\n",
        "new_str = \"In Besant technologies\"\n",
        "third_str = my_str + \" \" + new_str\n",
        "my_str.replace(\"learning\",\"Teaching\")\n",
        "print(third_str.replace(\"learning\",\"Teaching\"))"
      ]
    },
    {
      "cell_type": "code",
      "execution_count": null,
      "metadata": {
        "colab": {
          "base_uri": "https://localhost:8080/"
        },
        "id": "zDqzfkgjIzDP",
        "outputId": "b00cdcc5-2839-45b5-a059-ec66c6048b6c"
      },
      "outputs": [
        {
          "name": "stdout",
          "output_type": "stream",
          "text": [
            "no the strings are not equal\n"
          ]
        }
      ],
      "source": [
        "# # compare 2 strings are equal or not\n",
        "my_str = \"I am learning Python\"\n",
        "new_str = \"In Besant technologies\"\n",
        "third_str = my_str + \" \" + new_str\n",
        "fourth_str = \"I am Teaching Python in my college\"\n",
        "if third_str == fourth_str:\n",
        "  print(\"yes the strings are equal\")\n",
        "else:\n",
        "  print(\"no the strings are not equal\")"
      ]
    },
    {
      "cell_type": "code",
      "execution_count": null,
      "metadata": {
        "colab": {
          "base_uri": "https://localhost:8080/"
        },
        "id": "hYWZ9nGGLFmZ",
        "outputId": "ea8374db-e95d-4a0b-fe0c-a715dc56d508"
      },
      "outputs": [
        {
          "name": "stdout",
          "output_type": "stream",
          "text": [
            "I am Teaching Python in my college\n",
            "I am Teaching Python in my college\n",
            "IamTeachingPythoninmycollege\n"
          ]
        }
      ],
      "source": [
        "# Remove spaces in a string\n",
        "\n",
        "fourth_str = \"I am Teaching Python in my college\"\n",
        "print(fourth_str)\n",
        "print(fourth_str.strip())\n",
        "print(fourth_str.replace(\" \",\"\"))"
      ]
    },
    {
      "cell_type": "code",
      "execution_count": 12,
      "metadata": {
        "colab": {
          "base_uri": "https://localhost:8080/"
        },
        "id": "CXmKAcIWLF_4",
        "outputId": "87276a29-0a6d-462e-cb45-0ca1feb0c295"
      },
      "outputs": [
        {
          "output_type": "stream",
          "name": "stdout",
          "text": [
            "no the string is not pallindrome\n"
          ]
        }
      ],
      "source": [
        "# Check if string is pallindrome\n",
        "my_str = \"ABCD\"\n",
        "if my_str == my_str[::-1]:\n",
        "  print(\"yes the string is pallindrome\")\n",
        "else:\n",
        "  print(\"no the string is not pallindrome\")"
      ]
    },
    {
      "cell_type": "code",
      "execution_count": null,
      "metadata": {
        "colab": {
          "base_uri": "https://localhost:8080/"
        },
        "id": "pw29fIA9LvYQ",
        "outputId": "7d19b875-968d-4476-946b-c46466e9b58b"
      },
      "outputs": [
        {
          "name": "stdout",
          "output_type": "stream",
          "text": [
            "34\n"
          ]
        }
      ],
      "source": [
        "# Length of a string\n",
        "fourth_str = \"I am Teaching Python in my college\"\n",
        "print(len(fourth_str))"
      ]
    },
    {
      "cell_type": "code",
      "execution_count": null,
      "metadata": {
        "colab": {
          "base_uri": "https://localhost:8080/"
        },
        "id": "lliI6B4pLvxn",
        "outputId": "f28dafed-68f3-4e35-9759-0dec6e40d3c5"
      },
      "outputs": [
        {
          "name": "stdout",
          "output_type": "stream",
          "text": [
            "2\n"
          ]
        }
      ],
      "source": [
        "# Check how many times letters repeated in a string\n",
        "fourth_str = \"I am Teaching Python in my college\"\n",
        "my_char = \"i\"\n",
        "count = 0\n",
        "for i in fourth_str:\n",
        "  if i == my_char:\n",
        "    count += 1\n",
        "print(count)"
      ]
    },
    {
      "cell_type": "code",
      "execution_count": 13,
      "metadata": {
        "colab": {
          "base_uri": "https://localhost:8080/"
        },
        "id": "JjjK9au9WKpr",
        "outputId": "e0f0c6f8-8781-44db-a1cc-d395d3ffce93"
      },
      "outputs": [
        {
          "output_type": "stream",
          "name": "stdout",
          "text": [
            "Sanjay\n",
            "('roll_no', '1234')\n",
            "('name', 'Sanjay')\n",
            "('school name', 'Reva university')\n",
            "('Dob', '18/08/2002')\n",
            "('Maths', 95)\n",
            "('Sceince', 89)\n",
            "('Social', 67)\n",
            "('Kannada', 102)\n",
            "('English', 99)\n",
            "('Hindi', 93)\n",
            "545\n",
            "90\n"
          ]
        }
      ],
      "source": [
        "# Dictionaries\n",
        "\n",
        "# Key value pair\n",
        "my_dict = {\n",
        "    'roll_no' : '1234',\n",
        "    'name':'Sanjay',\n",
        "    'school name' : 'Reva university',\n",
        "    'Dob' : '18/08/2002',\n",
        "    'Maths' : 95,\n",
        "    'Sceince' : 89,\n",
        "    'Social' : 67,\n",
        "    'Kannada' : 102,\n",
        "    'English' : 99,\n",
        "    'Hindi' : 93,\n",
        "\n",
        "    }\n",
        "\n",
        "print(my_dict['name'])\n",
        "for i in my_dict.items():\n",
        "  print(i)\n",
        "\n",
        "My_total = my_dict['Maths'] + my_dict['Sceince'] + my_dict['Social'] + my_dict['Kannada'] + my_dict['English'] + my_dict['Hindi']\n",
        "print(My_total)\n",
        "My_percentage = My_total//6\n",
        "print(My_percentage)"
      ]
    },
    {
      "cell_type": "code",
      "execution_count": null,
      "metadata": {
        "colab": {
          "base_uri": "https://localhost:8080/"
        },
        "id": "Y2JJyKJipECh",
        "outputId": "6ede221d-4456-4d16-c51b-44c2b15ca6fb"
      },
      "outputs": [
        {
          "name": "stdout",
          "output_type": "stream",
          "text": [
            "Andhra Pradesh : Amaravati\n",
            "Arunachal Pradesh : Itanagar\n",
            "Assam : Dispur\n",
            "Bihar : Patna\n",
            "Chhattisgarh : Raipur\n",
            "Goa : Panaji\n",
            "Gujarat : Gandhinagar\n",
            "Haryana : Chandigarh\n",
            "Himachal Pradesh : Shimla\n",
            "Jharkhand : Ranchi\n",
            "Karnataka : Bengaluru\n",
            "Telangana : Hyderabad\n",
            "Madhya Pradesh : Bhopal\n",
            "Maharashtra : Mumbai\n",
            "Manipur : Imphal\n",
            "Meghalaya : Shillong\n",
            "Mizoram : Aizawl\n",
            "Nagaland : Kohima\n",
            "Odisha : Bhubaneswar\n",
            "Punjab : Chandigarh\n",
            "Rajasthan : Jaipur\n",
            "Sikkim : Gangtok\n",
            "Tamil Nadu : Chennai\n",
            "Tripura : Agartala\n",
            "Uttar Pradesh : Lucknow\n",
            "West Bengal : Kolkata\n"
          ]
        }
      ],
      "source": [
        "# States in India & their capitals\n",
        "\n",
        "State_dict = {\n",
        "    'Andhra Pradesh' : 'Amaravati',\n",
        "    'Arunachal Pradesh' : 'Itanagar',\n",
        "    'Assam' : 'Dispur',\n",
        "    'Bihar' : 'Patna',\n",
        "    'Chhattisgarh' : 'Raipur',\n",
        "    'Goa' : 'Panaji',\n",
        "    'Gujarat' : 'Gandhinagar',\n",
        "    'Haryana' : 'Chandigarh',\n",
        "    'Himachal Pradesh' : 'Shimla',\n",
        "    'Jharkhand' : 'Ranchi',\n",
        "    'Karnataka' : 'Bengaluru',\n",
        "    'Telangana' : 'Hyderabad',\n",
        "    'Madhya Pradesh' : 'Bhopal',\n",
        "    'Maharashtra' : 'Mumbai',\n",
        "    'Manipur' : 'Imphal',\n",
        "    'Meghalaya' : 'Shillong',\n",
        "    'Mizoram' : 'Aizawl',\n",
        "    'Nagaland' : 'Kohima',\n",
        "    'Odisha' : 'Bhubaneswar',\n",
        "    'Punjab' : 'Chandigarh',\n",
        "    'Rajasthan' : 'Jaipur',\n",
        "    'Sikkim' : 'Gangtok',\n",
        "    'Tamil Nadu' : 'Chennai',\n",
        "    'Tripura' : 'Agartala',\n",
        "    'Uttar Pradesh' : 'Lucknow',\n",
        "    'West Bengal' : 'Kolkata',\n",
        "\n",
        "}\n",
        "for key,value in State_dict.items():\n",
        "  print(key + \" : \" + value)"
      ]
    },
    {
      "cell_type": "code",
      "execution_count": null,
      "metadata": {
        "colab": {
          "base_uri": "https://localhost:8080/"
        },
        "id": "GFb72Xwil2Gx",
        "outputId": "b7072fe7-1d03-4c3d-af62-1ae2e4ee0292"
      },
      "outputs": [
        {
          "name": "stdout",
          "output_type": "stream",
          "text": [
            "number of states in dictionary is :26\n"
          ]
        }
      ],
      "source": [
        "# Length of dictionary\n",
        "print(\"number of states in dictionary is :\" + str(len(State_dict)))"
      ]
    },
    {
      "cell_type": "code",
      "execution_count": null,
      "metadata": {
        "colab": {
          "base_uri": "https://localhost:8080/"
        },
        "id": "USq7HK8zw8_3",
        "outputId": "eaf1bf1a-4c28-44e4-d854-65404762f2d0"
      },
      "outputs": [
        {
          "name": "stdout",
          "output_type": "stream",
          "text": [
            "Andhra Pradesh : Amaravati\n",
            "Arunachal Pradesh : Itanagar\n",
            "Assam : Dispur\n",
            "Bihar : Patna\n",
            "Chhattisgarh : Raipur\n",
            "Goa : Panaji\n",
            "Gujarat : Gandhinagar\n",
            "Haryana : Chandigarh\n",
            "Himachal Pradesh : Shimla\n",
            "Jharkhand : Ranchi\n",
            "Karnataka : Mangalore\n",
            "Telangana : Hyderabad\n",
            "Madhya Pradesh : Bhopal\n",
            "Maharashtra : Mumbai\n",
            "Manipur : Imphal\n",
            "Meghalaya : Shillong\n",
            "Mizoram : Aizawl\n",
            "Nagaland : Kohima\n",
            "Odisha : Bhubaneswar\n",
            "Punjab : Chandigarh\n",
            "Rajasthan : Jaipur\n",
            "Sikkim : Gangtok\n",
            "Tamil Nadu : Chennai\n",
            "Tripura : Agartala\n",
            "Uttar Pradesh : Lucknow\n",
            "West Bengal : Kolkata\n"
          ]
        }
      ],
      "source": [
        "# changing value in dictionary\n",
        "State_dict['Karnataka'] = 'Mangalore'\n",
        "for key,value in State_dict.items():\n",
        "  print(key + \" : \" + value)"
      ]
    },
    {
      "cell_type": "code",
      "execution_count": null,
      "metadata": {
        "colab": {
          "base_uri": "https://localhost:8080/"
        },
        "id": "cuXXhNUuxma-",
        "outputId": "01749df3-4656-41ec-ac3b-5259da67cfd4"
      },
      "outputs": [
        {
          "name": "stdout",
          "output_type": "stream",
          "text": [
            "Andhra Pradesh : Amaravati\n",
            "Arunachal Pradesh : Itanagar\n",
            "Assam : Dispur\n",
            "Bihar : Patna\n",
            "Chhattisgarh : Raipur\n",
            "Goa : Panaji\n",
            "Gujarat : Gandhinagar\n",
            "Haryana : Chandigarh\n",
            "Himachal Pradesh : Shimla\n",
            "Jharkhand : Ranchi\n",
            "Karnataka : Mangalore\n",
            "Telangana : Hyderabad\n",
            "Madhya Pradesh : Bhopal\n",
            "Maharashtra : Mumbai\n",
            "Manipur : Imphal\n",
            "Meghalaya : Shillong\n",
            "Mizoram : Aizawl\n",
            "Nagaland : Kohima\n",
            "Odisha : Bhubaneswar\n",
            "Punjab : Chandigarh\n",
            "Rajasthan : Jaipur\n",
            "Sikkim : Gangtok\n",
            "Tamil Nadu : Chennai\n",
            "Tripura : Agartala\n",
            "Uttar Pradesh : Lucknow\n",
            "West Bengal : Kolkata\n"
          ]
        }
      ],
      "source": [
        "# Adding new item in dictionary\n",
        "State_dict['Uttar Pradesh'] = 'Lucknow'\n",
        "for key,value in State_dict.items():\n",
        "  print(key + \" : \" + value)"
      ]
    },
    {
      "cell_type": "code",
      "execution_count": null,
      "metadata": {
        "colab": {
          "base_uri": "https://localhost:8080/"
        },
        "id": "fKkfJ-1xyJDz",
        "outputId": "33294787-c4c0-451d-9a08-ec722e937ab0"
      },
      "outputs": [
        {
          "name": "stdout",
          "output_type": "stream",
          "text": [
            "Andhra Pradesh : Amaravati\n",
            "Arunachal Pradesh : Itanagar\n",
            "Assam : Dispur\n",
            "Bihar : Patna\n",
            "Chhattisgarh : Raipur\n",
            "Goa : Panaji\n",
            "Gujarat : Gandhinagar\n",
            "Haryana : Chandigarh\n",
            "Himachal Pradesh : Shimla\n",
            "Jharkhand : Ranchi\n",
            "Telangana : Hyderabad\n",
            "Madhya Pradesh : Bhopal\n",
            "Maharashtra : Mumbai\n",
            "Manipur : Imphal\n",
            "Meghalaya : Shillong\n",
            "Mizoram : Aizawl\n",
            "Nagaland : Kohima\n",
            "Odisha : Bhubaneswar\n",
            "Punjab : Chandigarh\n",
            "Rajasthan : Jaipur\n",
            "Sikkim : Gangtok\n",
            "Tamil Nadu : Chennai\n",
            "Tripura : Agartala\n",
            "Uttar Pradesh : Lucknow\n",
            "West Bengal : Kolkata\n"
          ]
        }
      ],
      "source": [
        "# Remove a state from a dictionary\n",
        "del State_dict['Karnataka']\n",
        "for key,value in State_dict.items():\n",
        "  print(key + \" : \" + value)"
      ]
    },
    {
      "cell_type": "code",
      "execution_count": null,
      "metadata": {
        "colab": {
          "base_uri": "https://localhost:8080/"
        },
        "id": "iY55mU5Dy3Bo",
        "outputId": "fd644c7b-edfc-47f2-ba79-a5a3e554e671"
      },
      "outputs": [
        {
          "name": "stdout",
          "output_type": "stream",
          "text": [
            "Andhra Pradesh : Amaravati\n",
            "Arunachal Pradesh : Itanagar\n",
            "Assam : Dispur\n",
            "Bihar : Patna\n",
            "Chhattisgarh : Raipur\n",
            "Goa : Panaji\n",
            "Gujarat : Gandhinagar\n",
            "Haryana : Chandigarh\n",
            "Himachal Pradesh : Shimla\n",
            "Jharkhand : Ranchi\n",
            "Madhya Pradesh : Bhopal\n",
            "Maharashtra : Mumbai\n",
            "Manipur : Imphal\n",
            "Meghalaya : Shillong\n",
            "Mizoram : Aizawl\n",
            "Nagaland : Kohima\n",
            "Odisha : Bhubaneswar\n",
            "Punjab : Chandigarh\n",
            "Rajasthan : Jaipur\n",
            "Sikkim : Gangtok\n",
            "Tamil Nadu : Chennai\n",
            "Tripura : Agartala\n",
            "Uttar Pradesh : Lucknow\n",
            "West Bengal : Kolkata\n"
          ]
        }
      ],
      "source": [
        "State_dict.pop('Telangana')\n",
        "for key,value in State_dict.items():\n",
        "  print(key + \" : \" + value)"
      ]
    },
    {
      "cell_type": "code",
      "execution_count": null,
      "metadata": {
        "colab": {
          "base_uri": "https://localhost:8080/"
        },
        "id": "Pjhf4WLdzH4o",
        "outputId": "436f4c10-9bbd-4c3d-cda2-7a34d17f0c5c"
      },
      "outputs": [
        {
          "name": "stdout",
          "output_type": "stream",
          "text": [
            "Andhra Pradesh : Amaravati\n",
            "Arunachal Pradesh : Itanagar\n",
            "Assam : Dispur\n",
            "Bihar : Patna\n",
            "Chhattisgarh : Raipur\n",
            "Goa : Panaji\n",
            "Gujarat : Gandhinagar\n",
            "Haryana : Chandigarh\n",
            "Himachal Pradesh : Shimla\n",
            "Jharkhand : Ranchi\n",
            "Madhya Pradesh : Bhopal\n",
            "Maharashtra : Mumbai\n",
            "Manipur : Imphal\n",
            "Meghalaya : Shillong\n",
            "Mizoram : Aizawl\n",
            "Nagaland : Kohima\n",
            "Odisha : Bhubaneswar\n",
            "Punjab : Chandigarh\n",
            "Rajasthan : Jaipur\n",
            "Sikkim : Gangtok\n",
            "Tamil Nadu : Chennai\n",
            "Tripura : Agartala\n",
            "Uttar Pradesh : Lucknow\n",
            "West Bengal : Kolkata\n",
            "Karnataka : Bengaluru\n"
          ]
        }
      ],
      "source": [
        "# Add state in dict by checking its present\n",
        "if 'Karnataka' not in State_dict:\n",
        "  State_dict['Karnataka'] = 'Bengaluru'\n",
        "for key,value in State_dict.items():\n",
        "  print(key + \" : \" + value)"
      ]
    },
    {
      "cell_type": "code",
      "execution_count": null,
      "metadata": {
        "id": "CSb4EQjzzm6B"
      },
      "outputs": [],
      "source": []
    }
  ],
  "metadata": {
    "colab": {
      "provenance": [],
      "authorship_tag": "ABX9TyMyn601HIm9RfDltlBVXKdb",
      "include_colab_link": true
    },
    "kernelspec": {
      "display_name": "Python 3",
      "name": "python3"
    },
    "language_info": {
      "name": "python"
    }
  },
  "nbformat": 4,
  "nbformat_minor": 0
}