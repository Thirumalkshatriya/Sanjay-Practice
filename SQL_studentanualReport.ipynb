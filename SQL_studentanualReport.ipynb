{
  "nbformat": 4,
  "nbformat_minor": 0,
  "metadata": {
    "colab": {
      "provenance": [],
      "authorship_tag": "ABX9TyM2NzX/lLfIxzH5xYz7fP0f",
      "include_colab_link": true
    },
    "kernelspec": {
      "name": "python3",
      "display_name": "Python 3"
    },
    "language_info": {
      "name": "python"
    }
  },
  "cells": [
    {
      "cell_type": "markdown",
      "metadata": {
        "id": "view-in-github",
        "colab_type": "text"
      },
      "source": [
        "<a href=\"https://colab.research.google.com/github/Thirumalkshatriya/Sanjay-Practice/blob/master/SQL_studentanualReport.ipynb\" target=\"_parent\"><img src=\"https://colab.research.google.com/assets/colab-badge.svg\" alt=\"Open In Colab\"/></a>"
      ]
    },
    {
      "cell_type": "code",
      "execution_count": null,
      "metadata": {
        "id": "FeltgdfuNhT4"
      },
      "outputs": [],
      "source": [
        "USE Student_db\n",
        "\n",
        "Create table studentAnualReport\n",
        "\n",
        "(\n",
        "\tRollNo int,\n",
        "\tStudentNames Varchar (100),\n",
        "\tMarks Float\n",
        "\n",
        ")\n",
        "\n",
        "SELECT * From studentAnualReport\n",
        "\n",
        "INSERT INTO studentAnualReport Values\n",
        "(1, 'Thirumal', 99),\n",
        "(2, 'Kushi', 100),\n",
        "(3, 'Naveen', 87),\n",
        "(4, 'Srujan', 84)\n",
        "\n",
        "update studentAnualReport\n",
        "set StudentNames\t= 'Gagana', Marks = 98\n",
        "where RollNo = 4;\n",
        "\n",
        "SELECT * FROM studentAnualReport\n",
        "\n",
        "INSERT INTO studentAnualReport\n",
        "(RollNo, StudentNames, Marks)\n",
        "VALUES\n",
        "(5, 'Arjun', 75),\n",
        "(6, 'Shashank', 99),\n",
        "(7, 'Sudheer', 97)\n",
        "\n",
        "SELECT * FROM studentAnualReport\n",
        "\n",
        "DROP TABLE studentAnualReport\n",
        "\n",
        "Create table studentAnualReport\n",
        "(\n",
        "\tRollNo int,\n",
        "\tStudentNames Varchar (100),\n",
        "\tMarks Float,\n",
        "\tEmail Varchar (100),\n",
        "\tMobile Varchar (20)\n",
        "\n",
        ")\n",
        "\n",
        "INSERT INTO studentAnualReport Values\n",
        "(1, 'Thirumal', 99, 'Thirumal26@gmail.com', 9880891828),\n",
        "(2, 'Kushi', 100, 'Kushi26@gmail.com', 9535014930),\n",
        "(3, 'Naveen', 87, 'Naveenkumar82@gmail.com', 8971329833),\n",
        "(4, 'Srujan', 84, 'SrujanNaik56@gmail.com', 9242157618)\n",
        "\n",
        "SELECT * FROM studentAnualReport\n",
        "\n",
        "update studentAnualReport\n",
        "SET Mobile = 8971329842\n",
        "where StudentNames = 'Naveen'\n",
        "\n",
        "SELECT * FROM studentAnualReport\n",
        "\n",
        "UPDATE studentAnualReport\n",
        "SET Mobile = 7349662016,\n",
        "    Email = 'Srujan92@gmail.com'\n",
        "WHERE RollNo = 4 AND StudentNames = 'Srujan';\n",
        "\n",
        "SELECT * FROM studentAnualReport\n",
        "\n",
        "\n",
        "\n",
        "update studentAnualReport\n",
        "SET Marks = 100\n",
        "where StudentNames = 'Kushi'\n",
        "\n",
        "SELECT * FROM studentAnualReport\n",
        "\n",
        "SELECT StudentNames, Mobile, Email FROM studentAnualReport\n",
        "\n",
        "SELECT StudentNames, Mobile, Marks FROM studentAnualReport\n",
        "where Marks in (SELECT MAX(Marks) FROM studentAnualReport)             # Nested querries\n",
        "\n",
        "SELECT StudentNames, Mobile, Marks FROM studentAnualReport\n",
        "where Marks in (SELECT Min(Marks) FROM studentAnualReport)\n",
        "\n",
        "SELECT COUNT(*)FROM studentAnualReport\n",
        "\n",
        "SELECT StudentNames FROM studentAnualReport"
      ]
    }
  ]
}